{
 "cells": [
  {
   "cell_type": "code",
   "execution_count": 1,
   "id": "32e08e62",
   "metadata": {},
   "outputs": [],
   "source": [
    "import pandas as pd\n",
    "from neo4j import GraphDatabase\n",
    "from config import NEO4J_URI, NEO4J_USERNAME, NEO4J_PASSWORD\n",
    "driver = GraphDatabase.driver(NEO4J_URI, auth=(NEO4J_USERNAME, NEO4J_PASSWORD))\n",
    "\n",
    "def run_query(query, params={}):\n",
    "    with driver.session() as session:\n",
    "        result = session.run(query, params)\n",
    "        return pd.DataFrame([r.values() for r in result], columns=result.keys())"
   ]
  },
  {
   "cell_type": "markdown",
   "id": "bbf25e85",
   "metadata": {},
   "source": [
    "# 1. Updating nodes"
   ]
  },
  {
   "cell_type": "code",
   "execution_count": null,
   "id": "e6eb518b",
   "metadata": {},
   "outputs": [
    {
     "name": "stdout",
     "output_type": "stream",
     "text": [
      "Database cleared.\n"
     ]
    }
   ],
   "source": [
    "# Clear the entire database\n",
    "run_query(\"MATCH (n) DETACH DELETE n\")"
   ]
  },
  {
   "cell_type": "code",
   "execution_count": null,
   "id": "41c0dedc",
   "metadata": {},
   "outputs": [],
   "source": [
    "# Delete a single node and its relationships based on a property value (e.g., SoilCondition_ID or name)\n",
    "run_query(\"\"\"\n",
    "    MATCH (t:TraitValue {name: $name})\n",
    "    DETACH DELETE t\n",
    "    \"\"\", name=\"spring\")"
   ]
  },
  {
   "cell_type": "code",
   "execution_count": null,
   "id": "b79eb3dd",
   "metadata": {},
   "outputs": [],
   "source": [
    "# clear property from all matching nodes\n",
    "run_query(\"\"\"\n",
    "          MATCH (n: WeedingStrategy|Plant|PlantTrait|PlantTraitValue|SoilProperty|SoilCondition)\n",
    "          WHERE n.louvain IS NOT NULL\n",
    "          REMOVE n.louvain\n",
    "        \"\"\")"
   ]
  },
  {
   "cell_type": "markdown",
   "id": "a2dad119",
   "metadata": {},
   "source": [
    "# 2. Logical Knowledge"
   ]
  },
  {
   "cell_type": "code",
   "execution_count": null,
   "id": "0d3b0731",
   "metadata": {},
   "outputs": [
    {
     "name": "stdout",
     "output_type": "stream",
     "text": [
      "[{'ws.name': 'harrow tines', 'ptv.valueName': 40, 'effective_plants': 4, 'total_plants': 4}, {'ws.name': 'crop rotation', 'ptv.valueName': 40, 'effective_plants': 4, 'total_plants': 4}, {'ws.name': 'thermal control', 'ptv.valueName': 'herbaceous', 'effective_plants': 9, 'total_plants': 11}, {'ws.name': 'cultivator', 'ptv.valueName': 'climbing', 'effective_plants': 3, 'total_plants': 3}, {'ws.name': 'cultivator', 'ptv.valueName': 'cordate_root', 'effective_plants': 5, 'total_plants': 5}, {'ws.name': 'shallow cultivation', 'ptv.valueName': 'cordate_root', 'effective_plants': 4, 'total_plants': 5}, {'ws.name': 'turning tillage', 'ptv.valueName': 'all_temp_germination', 'effective_plants': 4, 'total_plants': 5}, {'ws.name': 'cultivator', 'ptv.valueName': 6, 'effective_plants': 4, 'total_plants': 4}, {'ws.name': 'crop rotation', 'ptv.valueName': 6, 'effective_plants': 4, 'total_plants': 4}, {'ws.name': 'crop rotation', 'ptv.valueName': 10, 'effective_plants': 4, 'total_plants': 4}, {'ws.name': 'harrow tines', 'ptv.valueName': 5, 'effective_plants': 3, 'total_plants': 3}, {'ws.name': 'thermal control', 'ptv.valueName': 5, 'effective_plants': 3, 'total_plants': 3}]\n"
     ]
    }
   ],
   "source": [
    "result = run_query(\"\"\"\n",
    "    MATCH (ptv:PlantTraitValue)\n",
    "    OPTIONAL MATCH (p_all:Plant)-[:hasTrait]->(ptv)-[:isInstanceOf]->(pt:PlantTrait)\n",
    "    WITH pt, ptv, count(p_all) AS total_plants\n",
    "    WHERE total_plants > 2 AND NOT pt.name IN ['HeightMax']\n",
    "    MATCH (ws:WeedingStrategy)-[:isEffectiveAgainst]->(p:Plant)-[:hasTrait]->(ptv)\n",
    "    WITH ws, ptv, total_plants, count(DISTINCT p) AS effective_plants\n",
    "    WHERE toFloat(effective_plants) / total_plants >= 0.8\n",
    "    MERGE (ws)-[:targetsTrait]->(ptv)\n",
    "    RETURN ws.name, ptv.valueName, effective_plants, total_plants\n",
    "    \"\"\")\n",
    "print(result.data())"
   ]
  },
  {
   "cell_type": "code",
   "execution_count": null,
   "id": "3905361e",
   "metadata": {},
   "outputs": [
    {
     "name": "stdout",
     "output_type": "stream",
     "text": [
      "[{'p.commonName': 'Spelt', 'p.isCrop': True}, {'p.commonName': 'Emmer', 'p.isCrop': True}, {'p.commonName': 'Einkorn', 'p.isCrop': True}, {'p.commonName': 'Barley', 'p.isCrop': True}, {'p.commonName': 'Wheat', 'p.isCrop': True}]\n"
     ]
    }
   ],
   "source": [
    "result = run_query(\"\"\"\n",
    "    MATCH (p:Plant)-[:isCultivatedAs]->(ctv:CultivationTraitValue)\n",
    "    WITH p, count(ctv) AS num_cultivation_traits\n",
    "    WHERE num_cultivation_traits > 0\n",
    "    SET p.isCrop = true\n",
    "    RETURN p.commonName, p.isCrop\n",
    "    \"\"\")\n",
    "print(result.data())"
   ]
  },
  {
   "cell_type": "code",
   "execution_count": null,
   "id": "3e71169c",
   "metadata": {},
   "outputs": [],
   "source": [
    "run_query(\"\"\"\n",
    "          MATCH (ws: WeedingStrategy)-[r:isEffectiveAgainst]->(p:Plant)\n",
    "          SET r.confidence = toInteger(100) \"\"\")"
   ]
  },
  {
   "cell_type": "markdown",
   "id": "fd93d38d",
   "metadata": {},
   "source": [
    "# 3. Link Prediction with Knowledge Graph Embeddings"
   ]
  },
  {
   "cell_type": "code",
   "execution_count": 11,
   "id": "2c632195",
   "metadata": {},
   "outputs": [
    {
     "data": {
      "application/vnd.microsoft.datawrangler.viewer.v0+json": {
       "columns": [
        {
         "name": "index",
         "rawType": "int64",
         "type": "integer"
        },
        {
         "name": "nodeProjection",
         "rawType": "object",
         "type": "unknown"
        },
        {
         "name": "relationshipProjection",
         "rawType": "object",
         "type": "unknown"
        },
        {
         "name": "graphName",
         "rawType": "object",
         "type": "string"
        },
        {
         "name": "nodeCount",
         "rawType": "int64",
         "type": "integer"
        },
        {
         "name": "relationshipCount",
         "rawType": "int64",
         "type": "integer"
        },
        {
         "name": "projectMillis",
         "rawType": "int64",
         "type": "integer"
        }
       ],
       "ref": "86243cd2-e45d-4dea-875e-6106a514b0cd",
       "rows": [
        [
         "0",
         "{'Plant': {'label': 'Plant', 'properties': {}}, 'WeedingStrategy': {'label': 'WeedingStrategy', 'properties': {}}}",
         "{'isEffectiveAgainst': {'aggregation': 'DEFAULT', 'orientation': 'UNDIRECTED', 'indexInverse': False, 'properties': {'confidence': {'aggregation': 'DEFAULT', 'property': 'confidence', 'defaultValue': None}}, 'type': 'isEffectiveAgainst'}}",
         "focused_graph",
         "66",
         "238",
         "42"
        ]
       ],
       "shape": {
        "columns": 6,
        "rows": 1
       }
      },
      "text/html": [
       "<div>\n",
       "<style scoped>\n",
       "    .dataframe tbody tr th:only-of-type {\n",
       "        vertical-align: middle;\n",
       "    }\n",
       "\n",
       "    .dataframe tbody tr th {\n",
       "        vertical-align: top;\n",
       "    }\n",
       "\n",
       "    .dataframe thead th {\n",
       "        text-align: right;\n",
       "    }\n",
       "</style>\n",
       "<table border=\"1\" class=\"dataframe\">\n",
       "  <thead>\n",
       "    <tr style=\"text-align: right;\">\n",
       "      <th></th>\n",
       "      <th>nodeProjection</th>\n",
       "      <th>relationshipProjection</th>\n",
       "      <th>graphName</th>\n",
       "      <th>nodeCount</th>\n",
       "      <th>relationshipCount</th>\n",
       "      <th>projectMillis</th>\n",
       "    </tr>\n",
       "  </thead>\n",
       "  <tbody>\n",
       "    <tr>\n",
       "      <th>0</th>\n",
       "      <td>{'Plant': {'label': 'Plant', 'properties': {}}...</td>\n",
       "      <td>{'isEffectiveAgainst': {'aggregation': 'DEFAUL...</td>\n",
       "      <td>focused_graph</td>\n",
       "      <td>66</td>\n",
       "      <td>238</td>\n",
       "      <td>42</td>\n",
       "    </tr>\n",
       "  </tbody>\n",
       "</table>\n",
       "</div>"
      ],
      "text/plain": [
       "                                      nodeProjection  \\\n",
       "0  {'Plant': {'label': 'Plant', 'properties': {}}...   \n",
       "\n",
       "                              relationshipProjection      graphName  \\\n",
       "0  {'isEffectiveAgainst': {'aggregation': 'DEFAUL...  focused_graph   \n",
       "\n",
       "   nodeCount  relationshipCount  projectMillis  \n",
       "0         66                238             42  "
      ]
     },
     "execution_count": 11,
     "metadata": {},
     "output_type": "execute_result"
    }
   ],
   "source": [
    "# graph with context\n",
    "run_query(\"\"\"\n",
    "CALL gds.graph.project('context_graph', \n",
    "['WeedingStrategy', 'Plant', 'PlantTrait', 'PlantTraitValue', 'SoilProperty', 'SoilCondition'], \n",
    "{\n",
    "  isEffectiveAgainst: {orientation: 'UNDIRECTED', properties: 'confidence'},\n",
    "  hasTrait: {orientation: 'UNDIRECTED'},\n",
    "  prefers: {orientation: 'UNDIRECTED'},\n",
    "  isInstanceOf: {orientation: 'UNDIRECTED'},\n",
    "  targetsTrait: {orientation: 'UNDIRECTED'}  // from logical knowledge\n",
    "})\"\"\")\n",
    "\n",
    "# focused graph\n",
    "run_query(\"\"\"\n",
    "CALL gds.graph.project('focused_graph', \n",
    "['WeedingStrategy', 'Plant'], \n",
    "{isEffectiveAgainst: {orientation: 'UNDIRECTED', properties: 'confidence'}})\n",
    "\"\"\")"
   ]
  },
  {
   "cell_type": "code",
   "execution_count": 12,
   "id": "8bcba0fb",
   "metadata": {},
   "outputs": [
    {
     "data": {
      "application/vnd.microsoft.datawrangler.viewer.v0+json": {
       "columns": [
        {
         "name": "index",
         "rawType": "int64",
         "type": "integer"
        },
        {
         "name": "nodeCount",
         "rawType": "int64",
         "type": "integer"
        },
        {
         "name": "nodePropertiesWritten",
         "rawType": "int64",
         "type": "integer"
        },
        {
         "name": "preProcessingMillis",
         "rawType": "int64",
         "type": "integer"
        },
        {
         "name": "computeMillis",
         "rawType": "int64",
         "type": "integer"
        },
        {
         "name": "writeMillis",
         "rawType": "int64",
         "type": "integer"
        },
        {
         "name": "configuration",
         "rawType": "object",
         "type": "unknown"
        },
        {
         "name": "lossPerIteration",
         "rawType": "object",
         "type": "unknown"
        }
       ],
       "ref": "a64e3029-312a-45f4-b87c-16b19b56699c",
       "rows": [
        [
         "0",
         "66",
         "66",
         "0",
         "90",
         "19",
         "{'writeProperty': 'focused_node2vec_embedding', 'walkLength': 80, 'walkBufferSize': 1000, 'jobId': '73d02510-85e5-4e4c-8084-49e6ffbcb2cc', 'iterations': 1, 'returnFactor': 1.0, 'negativeSamplingRate': 5, 'windowSize': 10, 'sudo': False, 'writeToResultStore': False, 'writeConcurrency': 4, 'positiveSamplingFactor': 0.001, 'inOutFactor': 1.0, 'logProgress': True, 'negativeSamplingExponent': 0.75, 'nodeLabels': ['*'], 'initialLearningRate': 0.025, 'concurrency': 4, 'relationshipTypes': ['*'], 'walksPerNode': 10, 'embeddingInitializer': 'NORMALIZED', 'embeddingDimension': 64, 'minLearningRate': 0.0001}",
         "[183802.77147366334]"
        ]
       ],
       "shape": {
        "columns": 7,
        "rows": 1
       }
      },
      "text/html": [
       "<div>\n",
       "<style scoped>\n",
       "    .dataframe tbody tr th:only-of-type {\n",
       "        vertical-align: middle;\n",
       "    }\n",
       "\n",
       "    .dataframe tbody tr th {\n",
       "        vertical-align: top;\n",
       "    }\n",
       "\n",
       "    .dataframe thead th {\n",
       "        text-align: right;\n",
       "    }\n",
       "</style>\n",
       "<table border=\"1\" class=\"dataframe\">\n",
       "  <thead>\n",
       "    <tr style=\"text-align: right;\">\n",
       "      <th></th>\n",
       "      <th>nodeCount</th>\n",
       "      <th>nodePropertiesWritten</th>\n",
       "      <th>preProcessingMillis</th>\n",
       "      <th>computeMillis</th>\n",
       "      <th>writeMillis</th>\n",
       "      <th>configuration</th>\n",
       "      <th>lossPerIteration</th>\n",
       "    </tr>\n",
       "  </thead>\n",
       "  <tbody>\n",
       "    <tr>\n",
       "      <th>0</th>\n",
       "      <td>66</td>\n",
       "      <td>66</td>\n",
       "      <td>0</td>\n",
       "      <td>90</td>\n",
       "      <td>19</td>\n",
       "      <td>{'writeProperty': 'focused_node2vec_embedding'...</td>\n",
       "      <td>[183802.77147366334]</td>\n",
       "    </tr>\n",
       "  </tbody>\n",
       "</table>\n",
       "</div>"
      ],
      "text/plain": [
       "   nodeCount  nodePropertiesWritten  preProcessingMillis  computeMillis  \\\n",
       "0         66                     66                    0             90   \n",
       "\n",
       "   writeMillis                                      configuration  \\\n",
       "0           19  {'writeProperty': 'focused_node2vec_embedding'...   \n",
       "\n",
       "       lossPerIteration  \n",
       "0  [183802.77147366334]  "
      ]
     },
     "execution_count": 12,
     "metadata": {},
     "output_type": "execute_result"
    }
   ],
   "source": [
    "run_query(\"\"\"\n",
    "CALL gds.fastRP.write('context_graph', {\n",
    "  writeProperty:'context_fastRP_embedding', \n",
    "  embeddingDimension: 64,\n",
    "  iterationWeights: [1.0, 1.0, 1.0, 1.0]\n",
    "})\"\"\")\n",
    "\n",
    "run_query(\"\"\"\n",
    "CALL gds.fastRP.write('focused_graph', {\n",
    "  writeProperty:'focused_fastRP_embedding', \n",
    "  embeddingDimension: 64,\n",
    "  iterationWeights: [1.0, 1.0, 1.0, 1.0]\n",
    "})\"\"\")\n",
    "\n",
    "run_query(\"\"\"\n",
    "CALL gds.node2vec.write('context_graph', {\n",
    "  writeProperty: 'context_node2vec_embedding',\n",
    "  embeddingDimension: 64,\n",
    "  walkLength: 80,\n",
    "  walksPerNode: 10\n",
    "})\"\"\")\n",
    "\n",
    "run_query(\"\"\"\n",
    "CALL gds.node2vec.write('focused_graph', {\n",
    "  writeProperty: 'focused_node2vec_embedding',\n",
    "  embeddingDimension: 64,\n",
    "  walkLength: 80,\n",
    "  walksPerNode: 10\n",
    "})\"\"\")"
   ]
  },
  {
   "cell_type": "code",
   "execution_count": null,
   "id": "29340043",
   "metadata": {},
   "outputs": [],
   "source": [
    "# Use your existing embeddings for link prediction via cosine similarity\n",
    "result_context_fastRP = run_query(\"\"\"\n",
    "MATCH (ws:WeedingStrategy), (p:Plant)\n",
    "WHERE ws.context_fastRP_embedding IS NOT NULL \n",
    "AND p.context_fastRP_embedding IS NOT NULL\n",
    "AND NOT EXISTS((ws)-[:isEffectiveAgainst]-(p))  // Only predict new links\n",
    "WITH ws, p, gds.similarity.cosine(ws.context_fastRP_embedding, p.context_fastRP_embedding) AS similarity\n",
    "WHERE similarity > 0.7  // Threshold for similarity\n",
    "RETURN ws.name as strategy, p.scientificName as plant, similarity\n",
    "ORDER BY similarity DESC\n",
    "LIMIT 20\n",
    "\"\"\")\n",
    "\n",
    "result_focused_fastRP = run_query(\"\"\"\n",
    "MATCH (ws:WeedingStrategy), (p:Plant)\n",
    "WHERE ws.focused_fastRP_embedding IS NOT NULL \n",
    "AND p.focused_fastRP_embedding IS NOT NULL\n",
    "AND NOT EXISTS((ws)-[:isEffectiveAgainst]-(p))  // Only predict new links\n",
    "WITH ws, p, gds.similarity.cosine(ws.focused_fastRP_embedding, p.focused_fastRP_embedding) AS similarity\n",
    "WHERE similarity > 0.7  // Threshold for similarity\n",
    "RETURN ws.name as strategy, p.scientificName as plant, similarity\n",
    "ORDER BY similarity DESC\n",
    "LIMIT 20\n",
    "\"\"\")\n",
    "\n",
    "result_context_node2vec = run_query(\"\"\"\n",
    "MATCH (ws:WeedingStrategy), (p:Plant)\n",
    "WHERE ws.context_node2vec_embedding IS NOT NULL \n",
    "AND p.context_node2vec_embedding IS NOT NULL\n",
    "AND NOT EXISTS((ws)-[:isEffectiveAgainst]-(p))  // Only predict new links\n",
    "WITH ws, p, gds.similarity.cosine(ws.context_node2vec_embedding, p.context_node2vec_embedding) AS similarity\n",
    "WHERE similarity > 0.7  // Threshold for similarity\n",
    "RETURN ws.name as strategy, p.scientificName as plant, similarity\n",
    "ORDER BY similarity DESC\n",
    "LIMIT 20\n",
    "\"\"\")\n",
    "\n",
    "result_focused_node2vec = run_query(\"\"\"\n",
    "MATCH (ws:WeedingStrategy), (p:Plant)\n",
    "WHERE ws.focused_node2vec_embedding IS NOT NULL\n",
    "AND p.focused_node2vec_embedding IS NOT NULL\n",
    "AND NOT EXISTS((ws)-[:isEffectiveAgainst]-(p))  // Only predict new links\n",
    "WITH ws, p, gds.similarity.cosine(ws.focused_node2vec_embedding, p.focused_node2vec_embedding) AS similarity\n",
    "WHERE similarity > 0.7  // Threshold for similarity\n",
    "RETURN ws.name as strategy, p.scientificName as plant, similarity\n",
    "ORDER BY similarity DESC\n",
    "LIMIT 20\n",
    "\"\"\")\n",
    "\n"
   ]
  },
  {
   "cell_type": "code",
   "execution_count": 21,
   "id": "6643852c",
   "metadata": {},
   "outputs": [
    {
     "name": "stdout",
     "output_type": "stream",
     "text": [
      "               strategy                      plant  similarity_context_fastRP  \\\n",
      "16           cultivator      Digitaria sanguinalis                   0.854074   \n",
      "19           cultivator         Portulaca oleracea                   0.813703   \n",
      "14        crop rotation             Galium aparine                   0.805922   \n",
      "22         harrow tines     Amaranthus retroflexus                   0.835194   \n",
      "53      thermal control         Portulaca oleracea                   0.806796   \n",
      "33            row width        Polygonum aviculare                   0.000000   \n",
      "48    stubble treatment         Rumex obtusifolius                   0.000000   \n",
      "25            row width            Anthemis cotula                   0.000000   \n",
      "47    stubble treatment              Rumex crispus                   0.000000   \n",
      "38         seeding rate            Stellaria media                   0.000000   \n",
      "32            row width       Matricaria discoidea                   0.000000   \n",
      "13        crop rotation     Echinochloa crus galli                   0.851616   \n",
      "35            row width           Sinapis arvensis                   0.000000   \n",
      "7        certified seed            Stellaria media                   0.834175   \n",
      "52      thermal control      Digitaria sanguinalis                   0.899840   \n",
      "17           cultivator      Matricaria chamomilla                   0.887952   \n",
      "15        crop rotation       Matricaria discoidea                   0.850058   \n",
      "23         harrow tines  Tripleurospermum inodorum                   0.843419   \n",
      "11           cover crop              Vicia hirsuta                   0.000000   \n",
      "31            row width      Matricaria chamomilla                   0.000000   \n",
      "36            row width       Veronica hederifolia                   0.000000   \n",
      "50      thermal control          Anthemis arvensis                   0.000000   \n",
      "24            row width     Amaranthus retroflexus                   0.000000   \n",
      "30            row width             Galium aparine                   0.000000   \n",
      "34            row width         Portulaca oleracea                   0.000000   \n",
      "12        crop rotation      Convolvulues arvensis                   0.000000   \n",
      "37            row width             Viola arvensis                   0.000000   \n",
      "46        stale seedbed            Stellaria media                   0.000000   \n",
      "9              chalking      Matricaria chamomilla                   0.000000   \n",
      "27            row width            Bromus sterilis                   0.000000   \n",
      "10           cover crop         Rumex obtusifolius                   0.000000   \n",
      "45        stale seedbed              Elymus repens                   0.000000   \n",
      "8              chalking            Anthemis cotula                   0.000000   \n",
      "29            row width              Elymus repens                   0.000000   \n",
      "28            row width          Chenopodium album                   0.000000   \n",
      "4        certified seed       Matricaria discoidea                   0.000000   \n",
      "26            row width         Apera sepica-venti                   0.000000   \n",
      "6        certified seed           Sinapis arvensis                   0.000000   \n",
      "39  shallow cultivation     Amaranthus retroflexus                   0.000000   \n",
      "49      thermal control     Alopecurus myosuroides                   0.000000   \n",
      "51      thermal control         Apera sepica-venti                   0.833357   \n",
      "40  shallow cultivation     Echinochloa crus galli                   0.806938   \n",
      "0        certified seed     Amaranthus retroflexus                   0.806209   \n",
      "3        certified seed     Echinochloa crus galli                   0.803186   \n",
      "21      depth loosening        Polygonum aviculare                   0.801043   \n",
      "44  shallow cultivation             Viola arvensis                   0.800668   \n",
      "41  shallow cultivation      Matricaria chamomilla                   0.799471   \n",
      "43  shallow cultivation       Veronica hederifolia                   0.797675   \n",
      "42  shallow cultivation       Matricaria discoidea                   0.796621   \n",
      "1        certified seed         Apera sepica-venti                   0.000000   \n",
      "54      thermal control              Vicia hirsuta                   0.000000   \n",
      "2        certified seed      Digitaria sanguinalis                   0.000000   \n",
      "5        certified seed         Portulaca oleracea                   0.000000   \n",
      "18           cultivator        Persicaria maculosa                   0.000000   \n",
      "20           cultivator            Stellaria media                   0.000000   \n",
      "\n",
      "    similarity_focused_fastRP  similarity  similarity_focused_node2vec  count  \\\n",
      "16                   0.782606    0.934482                     0.986838      4   \n",
      "19                   0.782606    0.000000                     0.988032      3   \n",
      "14                   0.813941    0.000000                     0.986552      3   \n",
      "22                   0.914034    0.000000                     0.982085      3   \n",
      "53                   0.807647    0.000000                     0.979929      3   \n",
      "33                   0.757059    0.933061                     0.978917      3   \n",
      "48                   0.000000    0.963382                     0.988397      2   \n",
      "25                   0.767101    0.000000                     0.986744      2   \n",
      "47                   0.000000    0.986691                     0.979062      2   \n",
      "38                   0.768327    0.000000                     0.986556      2   \n",
      "32                   0.000000    0.938983                     0.983523      2   \n",
      "13                   0.000000    0.948799                     0.000000      2   \n",
      "35                   0.757059    0.943190                     0.000000      2   \n",
      "7                    0.000000    0.930848                     0.000000      2   \n",
      "52                   0.807647    0.000000                     0.000000      2   \n",
      "17                   0.844223    0.000000                     0.000000      2   \n",
      "15                   0.841257    0.000000                     0.000000      2   \n",
      "23                   0.792382    0.000000                     0.000000      2   \n",
      "11                   0.000000    0.000000                     0.987732      1   \n",
      "31                   0.000000    0.000000                     0.986010      1   \n",
      "36                   0.000000    0.000000                     0.985281      1   \n",
      "50                   0.000000    0.000000                     0.984405      1   \n",
      "24                   0.000000    0.000000                     0.982371      1   \n",
      "30                   0.000000    0.000000                     0.982135      1   \n",
      "34                   0.000000    0.000000                     0.979042      1   \n",
      "12                   0.000000    0.000000                     0.978600      1   \n",
      "37                   0.000000    0.000000                     0.977831      1   \n",
      "46                   0.000000    0.971276                     0.000000      1   \n",
      "9                    0.000000    0.963979                     0.000000      1   \n",
      "27                   0.000000    0.957187                     0.000000      1   \n",
      "10                   0.000000    0.954571                     0.000000      1   \n",
      "45                   0.000000    0.949256                     0.000000      1   \n",
      "8                    0.000000    0.949201                     0.000000      1   \n",
      "29                   0.000000    0.940394                     0.000000      1   \n",
      "28                   0.000000    0.940115                     0.000000      1   \n",
      "4                    0.000000    0.938522                     0.000000      1   \n",
      "26                   0.000000    0.935874                     0.000000      1   \n",
      "6                    0.000000    0.927658                     0.000000      1   \n",
      "39                   0.000000    0.927022                     0.000000      1   \n",
      "49                   0.859211    0.000000                     0.000000      1   \n",
      "51                   0.000000    0.000000                     0.000000      1   \n",
      "40                   0.000000    0.000000                     0.000000      1   \n",
      "0                    0.000000    0.000000                     0.000000      1   \n",
      "3                    0.000000    0.000000                     0.000000      1   \n",
      "21                   0.000000    0.000000                     0.000000      1   \n",
      "44                   0.000000    0.000000                     0.000000      1   \n",
      "41                   0.000000    0.000000                     0.000000      1   \n",
      "43                   0.000000    0.000000                     0.000000      1   \n",
      "42                   0.000000    0.000000                     0.000000      1   \n",
      "1                    0.795924    0.000000                     0.000000      1   \n",
      "54                   0.768016    0.000000                     0.000000      1   \n",
      "2                    0.763356    0.000000                     0.000000      1   \n",
      "5                    0.763356    0.000000                     0.000000      1   \n",
      "18                   0.762739    0.000000                     0.000000      1   \n",
      "20                   0.756694    0.000000                     0.000000      1   \n",
      "\n",
      "    max_similarity  \n",
      "16        0.986838  \n",
      "19        0.988032  \n",
      "14        0.986552  \n",
      "22        0.982085  \n",
      "53        0.979929  \n",
      "33        0.978917  \n",
      "48        0.988397  \n",
      "25        0.986744  \n",
      "47        0.986691  \n",
      "38        0.986556  \n",
      "32        0.983523  \n",
      "13        0.948799  \n",
      "35        0.943190  \n",
      "7         0.930848  \n",
      "52        0.899840  \n",
      "17        0.887952  \n",
      "15        0.850058  \n",
      "23        0.843419  \n",
      "11        0.987732  \n",
      "31        0.986010  \n",
      "36        0.985281  \n",
      "50        0.984405  \n",
      "24        0.982371  \n",
      "30        0.982135  \n",
      "34        0.979042  \n",
      "12        0.978600  \n",
      "37        0.977831  \n",
      "46        0.971276  \n",
      "9         0.963979  \n",
      "27        0.957187  \n",
      "10        0.954571  \n",
      "45        0.949256  \n",
      "8         0.949201  \n",
      "29        0.940394  \n",
      "28        0.940115  \n",
      "4         0.938522  \n",
      "26        0.935874  \n",
      "6         0.927658  \n",
      "39        0.927022  \n",
      "49        0.859211  \n",
      "51        0.833357  \n",
      "40        0.806938  \n",
      "0         0.806209  \n",
      "3         0.803186  \n",
      "21        0.801043  \n",
      "44        0.800668  \n",
      "41        0.799471  \n",
      "43        0.797675  \n",
      "42        0.796621  \n",
      "1         0.795924  \n",
      "54        0.768016  \n",
      "2         0.763356  \n",
      "5         0.763356  \n",
      "18        0.762739  \n",
      "20        0.756694  \n"
     ]
    }
   ],
   "source": [
    "all_results = result_context_fastRP\\\n",
    "    .merge(result_focused_fastRP, on=['strategy', 'plant'], how='outer', suffixes=('_context_fastRP', '_focused_fastRP'))\\\n",
    "    .merge(result_context_node2vec, on=['strategy', 'plant'], how='outer', suffixes=('', '_context_node2vec'))\\\n",
    "    .merge(result_focused_node2vec, on=['strategy', 'plant'], how='outer', suffixes=('', '_focused_node2vec'))\n",
    "    \n",
    "all_results['count'] = all_results.count(axis=1) - 2\n",
    "all_results['max_similarity'] = all_results[['similarity_context_fastRP', 'similarity_focused_fastRP', 'similarity', 'similarity_focused_node2vec']].max(axis=1)\n",
    "all_results.fillna(0, inplace=True)\n",
    "all_results = all_results.sort_values(by=['count', 'max_similarity'], ascending=False)\n",
    "\n",
    "print(all_results)"
   ]
  },
  {
   "cell_type": "code",
   "execution_count": 23,
   "id": "790383bc",
   "metadata": {},
   "outputs": [
    {
     "name": "stdout",
     "output_type": "stream",
     "text": [
      "Batch insert completed\n"
     ]
    }
   ],
   "source": [
    "all_results = all_results[all_results['count'] >= 2]\n",
    "relationships_data = all_results[['strategy', 'plant', 'max_similarity']].to_dict('records')\n",
    "\n",
    "run_query(\"\"\"\n",
    "UNWIND $relationships AS rel\n",
    "MATCH (ws:WeedingStrategy {name: rel.strategy})\n",
    "MATCH (p:Plant {scientificName: rel.plant})\n",
    "MERGE (ws)-[r:predictedEffectiveAgainst]->(p)\n",
    "SET r.confidence = rel.max_similarity\n",
    "RETURN count(r) as relationships_created\n",
    "\"\"\", {'relationships': relationships_data})\n",
    "\n",
    "print(\"Batch insert completed\")\n"
   ]
  }
 ],
 "metadata": {
  "kernelspec": {
   "display_name": "venv",
   "language": "python",
   "name": "python3"
  },
  "language_info": {
   "codemirror_mode": {
    "name": "ipython",
    "version": 3
   },
   "file_extension": ".py",
   "mimetype": "text/x-python",
   "name": "python",
   "nbconvert_exporter": "python",
   "pygments_lexer": "ipython3",
   "version": "3.13.1"
  }
 },
 "nbformat": 4,
 "nbformat_minor": 5
}
