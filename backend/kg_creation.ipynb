{
 "cells": [
  {
   "cell_type": "markdown",
   "id": "803247e6",
   "metadata": {},
   "source": [
    "# 1. Preprocessing"
   ]
  },
  {
   "cell_type": "code",
   "execution_count": 1,
   "id": "7ea9abf3",
   "metadata": {},
   "outputs": [],
   "source": [
    "import pandas as pd\n",
    "import os\n",
    "from openpyxl import load_workbook\n",
    "\n",
    "file_path = 'Crops.xlsx'"
   ]
  },
  {
   "cell_type": "code",
   "execution_count": 2,
   "id": "c654b6d1",
   "metadata": {},
   "outputs": [
    {
     "name": "stdout",
     "output_type": "stream",
     "text": [
      "0  SoilCondition_ID            Condition              Category\n",
      "1                S1                sandy               Texture\n",
      "2                S2                silty               Texture\n",
      "3                S3                 clay               Texture\n",
      "4                S4                loamy               Texture\n",
      "5                S5           loamy clay               Texture\n",
      "6                S6           sandy loam               Texture\n",
      "7                S7           silty loam               Texture\n",
      "8                S8                  dry  WaterHoldingCapacity\n",
      "9                S9                fresh  WaterHoldingCapacity\n",
      "10              S10                  wet  WaterHoldingCapacity\n",
      "11              S11              aerated              Aeration\n",
      "12              S12              compact              Aeration\n",
      "13              S13           compressed              Aeration\n",
      "14              S14               acidic              pH-Value\n",
      "15              S15    moderately acidic              pH-Value\n",
      "16              S16              neutral              pH-Value\n",
      "17              S17  moderately alkaline              pH-Value\n",
      "18              S18             alkaline              pH-Value\n",
      "19              S19            low_humus          HumusContent\n",
      "20              S20           high_humus          HumusContent\n",
      "21              S21         low_nitrogen       NitrogenContent\n",
      "22              S22        high_nitrogen       NitrogenContent\n",
      "23              S23       low_phosphorus     PhosphorusContent\n",
      "24              S24      high_phosphorus     PhosphorusContent\n",
      "25              S25        low_potassium      PotassiumContent\n",
      "26              S26       high_potassium      PotassiumContent\n"
     ]
    }
   ],
   "source": [
    "# load Soil_Conditions\n",
    "\n",
    "def load_soil_conditions(file_path):\n",
    "    # Load the workbook and select the 'Soil_Conditions' sheet\n",
    "    workbook = load_workbook(filename=file_path, data_only=True)\n",
    "    sheet = workbook['Soil_Conditions']\n",
    "    \n",
    "    df = pd.DataFrame(sheet.values)\n",
    "    df.columns = df.iloc[0]\n",
    "    df = df[1:]\n",
    "    \n",
    "    df = df[['SoilCondition_ID', 'Condition', 'Category']]\n",
    "    \n",
    "    return df\n",
    "\n",
    "soil_conditions_df = load_soil_conditions(file_path)\n",
    "print(soil_conditions_df)"
   ]
  },
  {
   "cell_type": "code",
   "execution_count": 3,
   "id": "008c12b7",
   "metadata": {},
   "outputs": [
    {
     "name": "stdout",
     "output_type": "stream",
     "text": [
      "0  Operation_ID                  Name               GermanName         Type\n",
      "1            O1        manual removal        manuell Entfernen       manual\n",
      "2            O2     stubble treatment       Stoppelbearbeitung   mechanical\n",
      "3            O3       turning tillage            Bodenwendend    mechanical\n",
      "4            O4       depth loosening            Tiefenlockern   mechanical\n",
      "5            O5   shallow cultivation  flache Bodenbearbeitung   mechanical\n",
      "6            O6          harrow tines                Striegeln   mechanical\n",
      "7            O7            cultivator                   Hacken   mechanical\n",
      "8            O8         stale seedbed        falsches Saatbeet   mechanical\n",
      "9            O9       thermal control     thermische Verfahren      thermal\n",
      "10          O10              chalking                   Kalken   biological\n",
      "11          O11         crop rotation              Fruchtfolge  cultivation\n",
      "12          O12            cover crop          Zwischenfrüchte  cultivation\n",
      "13          O13  competitive cultivar   Konkurenzstarke Kultur  cultivation\n",
      "14          O14        certified seed   zertifiziertes Saatgut  cultivation\n",
      "15          O15          seeding rate            Aussaatdichte  cultivation\n",
      "16          O16             row width           Reihenabstände  cultivation\n"
     ]
    }
   ],
   "source": [
    "# load Weed Management Strategies\n",
    "\n",
    "def load_strategies(file_path):\n",
    "    workbook = load_workbook(filename=file_path, data_only=True)\n",
    "    sheet = workbook['Operations']\n",
    "    df = pd.DataFrame(sheet.values)\n",
    "    \n",
    "    # Set the first row as header\n",
    "    df.columns = df.iloc[0]\n",
    "    df = df[1:]\n",
    "    \n",
    "    return df\n",
    "\n",
    "strategies_df = load_strategies(file_path)\n",
    "print(strategies_df)"
   ]
  },
  {
   "cell_type": "code",
   "execution_count": 4,
   "id": "2a8b5867",
   "metadata": {},
   "outputs": [
    {
     "name": "stdout",
     "output_type": "stream",
     "text": [
      "0  Plant_ID            ScientificName CommonName                   GermanName  \\\n",
      "0        C1  Triticum aestivum spelta      Spelt                       Dinkel   \n",
      "1        C2         Triticum dicoccum      Emmer                        Emmer   \n",
      "2        C3       Triticum monococcum    Einkorn                      Einkorn   \n",
      "3        C4           Hordeum vulgare     Barley                       Gerste   \n",
      "4        C5                      None       None                        Hafer   \n",
      "..      ...                       ...        ...                          ...   \n",
      "83      W41          Rumex acetosella       None          Kleiner Sauerampfer   \n",
      "84      W42          Sonchus arvensis       None            Acker-Gänsedistel   \n",
      "85      W43      Teesdalia nudicaulis       None  Nacktstängeliger Bauernsenf   \n",
      "86      W44          Veronica persica       None        Persischer Ehrenpreis   \n",
      "87      W45           Veronica polita       None        Glänzender Ehrenpreis   \n",
      "\n",
      "0      Family Genus  \n",
      "0   Süßgräser  None  \n",
      "1   Süßgräser  None  \n",
      "2   Süßgräser  None  \n",
      "3   Süßgräser  None  \n",
      "4        None  None  \n",
      "..        ...   ...  \n",
      "83       None  None  \n",
      "84       None  None  \n",
      "85       None  None  \n",
      "86       None  None  \n",
      "87       None  None  \n",
      "\n",
      "[88 rows x 6 columns]\n"
     ]
    }
   ],
   "source": [
    "# load plant data from sheets Crops and Weeds\n",
    "\n",
    "def load_plants(file_path):\n",
    "    workbook = load_workbook(filename=file_path, data_only=True)\n",
    "    plant_data_df = pd.DataFrame()\n",
    "    \n",
    "    sheets = ['Crops', 'Weeds']\n",
    "    for sheet_name in sheets:\n",
    "        sheet = workbook[sheet_name]\n",
    "        df = pd.DataFrame(sheet.values)\n",
    "        \n",
    "        # Set the first row as header\n",
    "        df.columns = df.iloc[0]\n",
    "        df = df[1:]\n",
    "        df = df[['Plant_ID', 'ScientificName', 'CommonName', 'GermanName', 'Family', 'Genus']]\n",
    "        \n",
    "        plant_data_df = pd.concat([plant_data_df, df], ignore_index=True)\n",
    "    \n",
    "    return plant_data_df\n",
    "\n",
    "plants_df = load_plants(file_path)\n",
    "print(plants_df)"
   ]
  },
  {
   "cell_type": "code",
   "execution_count": 5,
   "id": "78268f57",
   "metadata": {},
   "outputs": [
    {
     "name": "stdout",
     "output_type": "stream",
     "text": [
      "               ScientificName             Trait Value\n",
      "0      Alopecurus myosuroides         HeightMax    60\n",
      "1           Anthemis arvensis         HeightMax    50\n",
      "2            Sinapis arvensis         HeightMax    60\n",
      "3              Viola arvensis         HeightMax    40\n",
      "4             Cirsium arvense         HeightMax   150\n",
      "..                        ...               ...   ...\n",
      "395  Triticum aestivum spelta  SeedBankDuration   NaN\n",
      "396         Triticum dicoccum  SeedBankDuration   NaN\n",
      "397       Triticum monococcum  SeedBankDuration   NaN\n",
      "398           Hordeum vulgare  SeedBankDuration   NaN\n",
      "399         Triticum aestivum  SeedBankDuration   NaN\n",
      "\n",
      "[400 rows x 3 columns]\n"
     ]
    }
   ],
   "source": [
    "# load Traits for Crops and Weeds\n",
    "# select columns scientificName, HeightMax, GrowthPattern, LifeCycle, RootSystem, GerminationDepth, GerminationTemperature, GerminationLight, SeedBankDuration\n",
    "\n",
    "def load_plant_trait_edges(file_path):\n",
    "    workbook = load_workbook(filename=file_path, data_only=True)\n",
    "    \n",
    "    weeds_sheet = workbook['Weeds']\n",
    "    df = pd.DataFrame(weeds_sheet.values)\n",
    "    df.columns = df.iloc[0]\n",
    "    df = df[1:]\n",
    "    df = df[['ScientificName', 'HeightMax', 'GrowthPattern', 'LifeCycle', 'RootSystem', 'GerminationDepth', 'GerminationTemperature', 'GerminationLight', 'SeedBankDuration']]\n",
    "    \n",
    "    \n",
    "    crops_sheet = workbook['Crops']\n",
    "    df_crops = pd.DataFrame(crops_sheet.values)\n",
    "    df_crops.columns = df_crops.iloc[0]\n",
    "    df_crops = df_crops[1:]\n",
    "    df_crops = df_crops[['ScientificName', 'HeightMax', 'RootSystem', 'GerminationTemperature', 'GerminationLight']]\n",
    "    \n",
    "    df = pd.concat([df, df_crops], ignore_index=True)\n",
    "    df = df.dropna(subset=['ScientificName'])\n",
    "    \n",
    "    # bring them into a key-value format with scientificName, Trait, Value\n",
    "    df = df.melt(id_vars=['ScientificName'], var_name='Trait', value_name='Value')\n",
    "    \n",
    "    \n",
    "    return df\n",
    "\n",
    "plant_trait_edges_df = load_plant_trait_edges(file_path)\n",
    "print(plant_trait_edges_df)"
   ]
  },
  {
   "cell_type": "code",
   "execution_count": 6,
   "id": "79503fca",
   "metadata": {},
   "outputs": [
    {
     "name": "stdout",
     "output_type": "stream",
     "text": [
      "              ScientificName   CropTrait CropTraitValue\n",
      "0   Triticum aestivum spelta   CropUsage        Cereals\n",
      "1          Triticum dicoccum   CropUsage        Cereals\n",
      "2        Triticum monococcum   CropUsage        Cereals\n",
      "3            Hordeum vulgare   CropUsage        Cereals\n",
      "4          Triticum aestivum   CropUsage        Cereals\n",
      "5   Triticum aestivum spelta  RowSpacing           pure\n",
      "6          Triticum dicoccum  RowSpacing           pure\n",
      "7        Triticum monococcum  RowSpacing           pure\n",
      "8            Hordeum vulgare  RowSpacing           pure\n",
      "9          Triticum aestivum  RowSpacing           pure\n",
      "10  Triticum aestivum spelta      Season         winter\n",
      "11         Triticum dicoccum      Season         winter\n",
      "12       Triticum monococcum      Season         winter\n",
      "13           Hordeum vulgare      Season         spring\n",
      "14         Triticum aestivum      Season         winter\n"
     ]
    }
   ],
   "source": [
    "# CropType (e.g. Cereal, Root), Season, Rows\n",
    "\n",
    "def load_crop_croptrait_edges(file_path):\n",
    "    workbook = load_workbook(filename=file_path, data_only=True)\n",
    "    \n",
    "    crops_sheet = workbook['Crops']\n",
    "    df_crops = pd.DataFrame(crops_sheet.values)\n",
    "    df_crops.columns = df_crops.iloc[0]\n",
    "    df_crops = df_crops[1:]\n",
    "    df_crops = df_crops[['ScientificName', 'CropUsage', 'RowSpacing', 'Season']]\n",
    "    \n",
    "    df_crops = df_crops.dropna(subset=['ScientificName'])\n",
    "    \n",
    "    # bring them into a key-value format\n",
    "    df_crops = df_crops.melt(id_vars=['ScientificName'], var_name='CropTrait', value_name='CropTraitValue')\n",
    "    \n",
    "    \n",
    "    return df_crops\n",
    "\n",
    "crop_croptrait_edges_df = load_crop_croptrait_edges(file_path)\n",
    "print(crop_croptrait_edges_df)"
   ]
  },
  {
   "cell_type": "code",
   "execution_count": 7,
   "id": "96a7bf7a",
   "metadata": {},
   "outputs": [
    {
     "name": "stdout",
     "output_type": "stream",
     "text": [
      "0              ScientificName        Condition\n",
      "0    Triticum aestivum spelta       loamy clay\n",
      "1    Triticum aestivum spelta       silty loam\n",
      "2    Triticum aestivum spelta            fresh\n",
      "3         Triticum monococcum            sandy\n",
      "4         Triticum monococcum       sandy loam\n",
      "..                        ...              ...\n",
      "142    Amaranthus retroflexus       high_humus\n",
      "143    Amaranthus retroflexus    high_nitrogen\n",
      "144    Amaranthus retroflexus  high_phosphorus\n",
      "145    Amaranthus retroflexus   high_potassium\n",
      "146    Amaranthus retroflexus          aerated\n",
      "\n",
      "[147 rows x 2 columns]\n"
     ]
    }
   ],
   "source": [
    "# Edges from Plant to preferred SoilCondition\n",
    "\n",
    "def load_soil_plant_edges(file_path):\n",
    "    workbook = load_workbook(filename=file_path, data_only=True)\n",
    "    soil_edges_df = pd.DataFrame()\n",
    "    \n",
    "    sheets = ['Crops', 'Weeds']\n",
    "    for sheet_name in sheets:\n",
    "        sheet = workbook[sheet_name]\n",
    "        df = pd.DataFrame(sheet.values)\n",
    "        \n",
    "        df.columns = df.iloc[0]\n",
    "        df = df[1:]\n",
    "        df = df[['ScientificName', 'prefers_SoilCondition']]\n",
    "        df = df.dropna(subset=['prefers_SoilCondition'])\n",
    "        \n",
    "        soil_edges_df = pd.concat([soil_edges_df, df], ignore_index=True)\n",
    "        \n",
    "    # go through each row and split the prefers_SoilCondition by comma, create a new row for each\n",
    "    soil_edges_df = soil_edges_df.assign(prefers_SoilCondition=soil_edges_df['prefers_SoilCondition'].str.split(',')).explode('prefers_SoilCondition')\n",
    "    soil_edges_df['prefers_SoilCondition'] = soil_edges_df['prefers_SoilCondition'].str.strip()\n",
    "    \n",
    "    # load soil conditions to get the mapping from Condition to SoilCondition_ID\n",
    "    soil_conditions_df = load_soil_conditions(file_path)\n",
    "    soil_edges_df = soil_edges_df.merge(soil_conditions_df, left_on='prefers_SoilCondition', right_on='SoilCondition_ID', how='left')\n",
    "    \n",
    "    return soil_edges_df[['ScientificName', 'Condition']]\n",
    "\n",
    "soil_plant_edges_df = load_soil_plant_edges(file_path)\n",
    "print(soil_plant_edges_df)"
   ]
  },
  {
   "cell_type": "code",
   "execution_count": 8,
   "id": "5cce24e1",
   "metadata": {},
   "outputs": [
    {
     "name": "stdout",
     "output_type": "stream",
     "text": [
      "0     ScientificName            Condition\n",
      "0   Sinapis arvensis           high_humus\n",
      "1   Sinapis arvensis        high_nitrogen\n",
      "2   Sinapis arvensis      high_phosphorus\n",
      "3   Sinapis arvensis       high_potassium\n",
      "4   Sinapis arvensis             alkaline\n",
      "..               ...                  ...\n",
      "90   Veronica polita           high_humus\n",
      "91   Veronica polita        high_nitrogen\n",
      "92   Veronica polita      high_phosphorus\n",
      "93   Veronica polita       high_potassium\n",
      "94   Veronica polita  moderately alkaline\n",
      "\n",
      "[95 rows x 2 columns]\n"
     ]
    }
   ],
   "source": [
    "# Edges from Weed to indicated SoilCondition\n",
    "\n",
    "def load_soil_weed_indicator_edges(file_path):\n",
    "    workbook = load_workbook(filename=file_path, data_only=True)\n",
    "    sheet = workbook['Weeds']\n",
    "    df = pd.DataFrame(sheet.values)\n",
    "    \n",
    "    df.columns = df.iloc[0]\n",
    "    df = df[1:]\n",
    "    df = df[['ScientificName', 'indicates']]\n",
    "    df = df.dropna(subset=['indicates'])\n",
    "        \n",
    "    # go through each row and split the prefers_SoilCondition by comma, create a new row for each\n",
    "    df = df.assign(indicates_SoilCondition=df['indicates'].str.split(',')).explode('indicates_SoilCondition')\n",
    "    df['indicates_SoilCondition'] = df['indicates_SoilCondition'].str.strip()\n",
    "    \n",
    "    # load soil conditions to get the mapping from Condition to SoilCondition_ID\n",
    "    soil_df = load_soil_conditions(file_path)\n",
    "    df = df.merge(soil_df, left_on='indicates_SoilCondition', right_on='SoilCondition_ID', how='left')\n",
    "    \n",
    "    return df[['ScientificName', 'Condition']]\n",
    "\n",
    "soil_weed_indicator_edges_df = load_soil_weed_indicator_edges(file_path)\n",
    "print(soil_weed_indicator_edges_df)"
   ]
  },
  {
   "cell_type": "code",
   "execution_count": 9,
   "id": "33e96a8a",
   "metadata": {},
   "outputs": [
    {
     "name": "stdout",
     "output_type": "stream",
     "text": [
      "0              ScientificName competes_with\n",
      "1      Alopecurus myosuroides        winter\n",
      "1      Alopecurus myosuroides       Cereals\n",
      "2           Anthemis arvensis        winter\n",
      "2           Anthemis arvensis       Cereals\n",
      "3            Sinapis arvensis     wide_rows\n",
      "4              Viola arvensis        winter\n",
      "4              Viola arvensis       Cereals\n",
      "5             Cirsium arvense       Cereals\n",
      "5             Cirsium arvense  shallow_root\n",
      "7     Persicaria lapathifolia        spring\n",
      "7     Persicaria lapathifolia     wide_rows\n",
      "8     Galinsoga quadriradiata        spring\n",
      "9       Digitaria sanguinalis    Vegetables\n",
      "9       Digitaria sanguinalis     wide_rows\n",
      "10      Matricaria chamomilla        winter\n",
      "10      Matricaria chamomilla       Cereals\n",
      "10      Matricaria chamomilla    Zuckerrübe\n",
      "10      Matricaria chamomilla     Kartoffel\n",
      "11       Veronica hederifolia        winter\n",
      "11       Veronica hederifolia       Cereals\n",
      "12        Persicaria maculosa        spring\n",
      "12        Persicaria maculosa     wide_rows\n",
      "13     Echinochloa crus galli    Vegetables\n",
      "13     Echinochloa crus galli     wide_rows\n",
      "14              Elymus repens       Cereals\n",
      "15         Apera sepica-venti        winter\n",
      "15         Apera sepica-venti       Cereals\n",
      "16         Portulaca oleracea     wide_rows\n",
      "17  Tripleurospermum inodorum        winter\n",
      "17  Tripleurospermum inodorum       Cereals\n",
      "17  Tripleurospermum inodorum    Zuckerrübe\n",
      "17  Tripleurospermum inodorum     Kartoffel\n",
      "18             Galium aparine       Cereals\n",
      "20              Vicia hirsuta       Cereals\n",
      "21            Anthemis cotula        winter\n",
      "21            Anthemis cotula       Cereals\n",
      "21            Anthemis cotula    Zuckerrübe\n",
      "21            Anthemis cotula     Kartoffel\n",
      "22       Matricaria discoidea        winter\n",
      "22       Matricaria discoidea       Cereals\n",
      "22       Matricaria discoidea    Zuckerrübe\n",
      "22       Matricaria discoidea     Kartoffel\n",
      "23         Rumex obtusifolius     perennial\n",
      "24            Bromus sterilis        winter\n",
      "24            Bromus sterilis       Cereals\n",
      "25        Polygonum aviculare        spring\n",
      "25        Polygonum aviculare       Cereals\n",
      "25        Polygonum aviculare     wide_rows\n",
      "26            Stellaria media        winter\n",
      "26            Stellaria media       Cereals\n",
      "26            Stellaria media          Mais\n",
      "26            Stellaria media     Kartoffel\n",
      "27          Chenopodium album        spring\n",
      "27          Chenopodium album       Cereals\n",
      "27          Chenopodium album    Zuckerrübe\n",
      "27          Chenopodium album          Mais\n",
      "27          Chenopodium album     Kartoffel\n",
      "28     Amaranthus retroflexus     wide_rows\n"
     ]
    }
   ],
   "source": [
    "# Edges from Weeds to Crops\n",
    "\n",
    "def load_weed_croptrait_edges(file_path):\n",
    "    workbook = load_workbook(filename=file_path, data_only=True)\n",
    "    sheet = workbook['Weeds']\n",
    "    df = pd.DataFrame(sheet.values)\n",
    "    \n",
    "    df.columns = df.iloc[0]\n",
    "    df = df[1:]\n",
    "    df = df[['ScientificName', 'competes_with']]\n",
    "    df = df.dropna(subset=['competes_with'])\n",
    "    \n",
    "    df = df.assign(competes_with=df['competes_with'].str.split(',')).explode('competes_with')\n",
    "    df['competes_with'] = df['competes_with'].str.strip()\n",
    "    \n",
    "    # TODO: get ScientificName for individual crops\n",
    "    \n",
    "    return df[['ScientificName', 'competes_with']]\n",
    "\n",
    "weed_croptrait_edges_df = load_weed_croptrait_edges(file_path)\n",
    "print(weed_croptrait_edges_df)"
   ]
  },
  {
   "cell_type": "code",
   "execution_count": 10,
   "id": "be5b5d23",
   "metadata": {},
   "outputs": [
    {
     "name": "stdout",
     "output_type": "stream",
     "text": [
      "    CropTrait CropTraitValue IncompatibleStrategies\n",
      "0  RowSpacing           pure             cultivator\n",
      "1  RowSpacing           pure              row width\n"
     ]
    }
   ],
   "source": [
    "# create a custom dataframe for CropTrait, CropTraitValue and IncompatibleStrategies with those 3 columns and 2 rows\n",
    "\n",
    "croptrait_strategy_edges_df = pd.DataFrame({\n",
    "    'CropTrait': ['RowSpacing', 'RowSpacing'],\n",
    "    'CropTraitValue': ['pure', 'pure'],\n",
    "    'IncompatibleStrategies': ['cultivator', 'row width']\n",
    "})\n",
    "print(croptrait_strategy_edges_df)"
   ]
  },
  {
   "cell_type": "code",
   "execution_count": 11,
   "id": "fb28c401",
   "metadata": {},
   "outputs": [
    {
     "name": "stdout",
     "output_type": "stream",
     "text": [
      "0          Operation                  TARGET                     Details\n",
      "1      crop rotation  Alopecurus myosuroides            weniger Getreide\n",
      "2    depth loosening  Alopecurus myosuroides                        None\n",
      "3    turning tillage  Alopecurus myosuroides                alle 5 Jahre\n",
      "4          row width  Alopecurus myosuroides                         eng\n",
      "5    turning tillage  Alopecurus myosuroides  einmalig nach neuem Befall\n",
      "..               ...                     ...                         ...\n",
      "117     harrow tines       Chenopodium album                        None\n",
      "118       cultivator       Chenopodium album                        None\n",
      "119  thermal control  Amaranthus retroflexus        bis Keimblattstadium\n",
      "120    crop rotation  Amaranthus retroflexus            mehr Winterungen\n",
      "121       cultivator  Amaranthus retroflexus                        None\n",
      "\n",
      "[121 rows x 3 columns]\n"
     ]
    }
   ],
   "source": [
    "# Edges from Strategies to Weeds / Traits\n",
    "\n",
    "def load_weed_strategy_edges(file_path):\n",
    "    workbook = load_workbook(filename=file_path, data_only=True)\n",
    "    sheet = workbook['Relations']\n",
    "    \n",
    "    df = pd.DataFrame(sheet.values)\n",
    "    df.columns = df.iloc[0]\n",
    "    df = df[1:]\n",
    "    \n",
    "    df = df[['Operation', 'TARGET', 'Details']]\n",
    "    \n",
    "    return df\n",
    "\n",
    "weed_strategy_edges_df = load_weed_strategy_edges(file_path)\n",
    "print(weed_strategy_edges_df)"
   ]
  },
  {
   "cell_type": "markdown",
   "id": "81e5fdf3",
   "metadata": {},
   "source": [
    "# 2. KG Creation"
   ]
  },
  {
   "cell_type": "code",
   "execution_count": 12,
   "id": "6ccc20ae",
   "metadata": {},
   "outputs": [],
   "source": [
    "from neo4j import GraphDatabase\n",
    "from config import NEO4J_URI, NEO4J_USERNAME, NEO4J_PASSWORD\n",
    "\n",
    "\n",
    "def table_insertion(df, query_func):\n",
    "    driver = GraphDatabase.driver(NEO4J_URI, auth=(NEO4J_USERNAME, NEO4J_PASSWORD))\n",
    "    with driver.session() as session:\n",
    "        for row in df.to_dict('records'):\n",
    "            session.execute_write(query_func, row)\n",
    "        \n",
    "        print(\"Nodes and relationships created successfully!\")\n",
    "\n",
    "    driver.close()"
   ]
  },
  {
   "cell_type": "code",
   "execution_count": 13,
   "id": "c32c559d",
   "metadata": {},
   "outputs": [
    {
     "name": "stdout",
     "output_type": "stream",
     "text": [
      "Nodes and relationships created successfully!\n"
     ]
    }
   ],
   "source": [
    "def insert_soil_data(tx, data):\n",
    "    query = \"\"\"\n",
    "    MERGE (sc:SoilCondition {soilConditionId: $id, name: $condition})\n",
    "    MERGE (sp:SoilProperty {name: $category})\n",
    "    MERGE (sc)-[:isInstanceOf]->(sp)\n",
    "    \"\"\"\n",
    "    tx.run(query, id=data['SoilCondition_ID'], condition=data['Condition'], category=data['Category'])\n",
    "\n",
    "table_insertion(soil_conditions_df, insert_soil_data)"
   ]
  },
  {
   "cell_type": "code",
   "execution_count": 14,
   "id": "039faa6e",
   "metadata": {},
   "outputs": [
    {
     "name": "stdout",
     "output_type": "stream",
     "text": [
      "Nodes and relationships created successfully!\n"
     ]
    }
   ],
   "source": [
    "def insert_strategy_data(tx, data):\n",
    "    query = \"\"\"\n",
    "    MERGE (ws:WeedingStrategy {strategyId: $id, name: $name, germanName: $german_name, type: $type})\n",
    "    \"\"\"\n",
    "    tx.run(query, id=data['Operation_ID'], name=data['Name'], german_name=data['GermanName'], type=data['Type'])\n",
    "    \n",
    "table_insertion(strategies_df, insert_strategy_data)"
   ]
  },
  {
   "cell_type": "code",
   "execution_count": 15,
   "id": "7d67956b",
   "metadata": {},
   "outputs": [
    {
     "name": "stdout",
     "output_type": "stream",
     "text": [
      "Nodes and relationships created successfully!\n"
     ]
    }
   ],
   "source": [
    "def insert_plant_data(tx, data):\n",
    "    # MERGE on the required properties\n",
    "    query_base = \"\"\"\n",
    "    MERGE (p:Plant {plantId: $id, scientificName: $name})\n",
    "    \"\"\"\n",
    "    \n",
    "    tx.run(query_base, \n",
    "           id=data['Plant_ID'], \n",
    "           name=data['ScientificName'])\n",
    "    \n",
    "    # SET optional properties\n",
    "    query_optional = \"\"\"\n",
    "    MATCH (p:Plant {plantId: $id})\n",
    "    SET p.commonName = CASE WHEN $common_name IS NOT NULL THEN $common_name ELSE p.commonName END,\n",
    "        p.germanName = CASE WHEN $german_name IS NOT NULL THEN $german_name ELSE p.germanName END,\n",
    "        p.family = CASE WHEN $family IS NOT NULL THEN $family ELSE p.family END,\n",
    "        p.genus = CASE WHEN $genus IS NOT NULL THEN $genus ELSE p.genus END\n",
    "    \"\"\"\n",
    "    \n",
    "    optional_params = {\n",
    "        'id': data['Plant_ID'],\n",
    "        'common_name': data.get('CommonName'),\n",
    "        'german_name': data.get('GermanName'),\n",
    "        'family': data.get('Family'),\n",
    "        'genus': data.get('Genus')\n",
    "    }\n",
    "\n",
    "    tx.run(query_optional, **optional_params)\n",
    "\n",
    "driver = GraphDatabase.driver(NEO4J_URI, auth=(NEO4J_USERNAME, NEO4J_PASSWORD))\n",
    "with driver.session() as session:\n",
    "    for row in plants_df.to_dict('records'):\n",
    "        if pd.notna(row['Plant_ID']) and pd.notna(row['ScientificName']):\n",
    "            session.execute_write(insert_plant_data, row)\n",
    "    \n",
    "    print(\"Nodes and relationships created successfully!\")\n",
    "\n",
    "driver.close()"
   ]
  },
  {
   "cell_type": "code",
   "execution_count": 16,
   "id": "ab97f2f4",
   "metadata": {},
   "outputs": [
    {
     "name": "stdout",
     "output_type": "stream",
     "text": [
      "Nodes and relationships created successfully!\n"
     ]
    }
   ],
   "source": [
    "def insert_plant_trait_edges(tx, data):\n",
    "    query = \"\"\"\n",
    "    MATCH (p:Plant {scientificName: $scientific_name})\n",
    "    MERGE (pt:PlantTrait {name: $trait})\n",
    "    MERGE (ptv:PlantTraitValue {valueName: $trait_value})\n",
    "    MERGE (p)-[:hasTrait]->(ptv)\n",
    "    MERGE (ptv)-[:isInstanceOf]->(pt)\n",
    "    \"\"\"\n",
    "    tx.run(query, \n",
    "           scientific_name=data['ScientificName'], \n",
    "           trait=data['Trait'], \n",
    "           trait_value=data['Value'])\n",
    "\n",
    "driver = GraphDatabase.driver(NEO4J_URI, auth=(NEO4J_USERNAME, NEO4J_PASSWORD))\n",
    "with driver.session() as session:\n",
    "    for row in plant_trait_edges_df.to_dict('records'):\n",
    "        if pd.notna(row['Value']):\n",
    "            session.execute_write(insert_plant_trait_edges, row)\n",
    "    \n",
    "    print(\"Nodes and relationships created successfully!\")\n",
    "\n",
    "driver.close()"
   ]
  },
  {
   "cell_type": "code",
   "execution_count": 17,
   "id": "de88ed19",
   "metadata": {},
   "outputs": [
    {
     "name": "stdout",
     "output_type": "stream",
     "text": [
      "Nodes and relationships created successfully!\n"
     ]
    }
   ],
   "source": [
    "def insert_crop_croptrait_edges(tx, data):\n",
    "    query = \"\"\"\n",
    "    MATCH (p:Plant {scientificName: $scientific_name})\n",
    "    MERGE (ct:CultivationTrait {name: $croptrait})\n",
    "    MERGE (ctv:CultivationTraitValue {valueName: $croptrait_value})\n",
    "    MERGE (p)-[:isCultivatedAs]->(ctv)\n",
    "    MERGE (ctv)-[:isInstanceOf]->(ct)\n",
    "    \"\"\"\n",
    "    tx.run(query, \n",
    "           scientific_name=data['ScientificName'], \n",
    "           croptrait=data['CropTrait'], \n",
    "           croptrait_value=data['CropTraitValue'])\n",
    "    \n",
    "table_insertion(crop_croptrait_edges_df, insert_crop_croptrait_edges)"
   ]
  },
  {
   "cell_type": "code",
   "execution_count": 18,
   "id": "a5b71290",
   "metadata": {},
   "outputs": [
    {
     "name": "stdout",
     "output_type": "stream",
     "text": [
      "Nodes and relationships created successfully!\n"
     ]
    }
   ],
   "source": [
    "def insert_soil_plant_edges(tx, data):\n",
    "    query = \"\"\"\n",
    "    MATCH (p:Plant {scientificName: $scientific_name})\n",
    "    MATCH (sc:SoilCondition {name: $condition})\n",
    "    MERGE (p)-[:prefers]->(sc)\n",
    "    \"\"\"\n",
    "    tx.run(query, \n",
    "           scientific_name=data['ScientificName'], \n",
    "           condition=data['Condition'])\n",
    "    \n",
    "table_insertion(soil_plant_edges_df, insert_soil_plant_edges)"
   ]
  },
  {
   "cell_type": "code",
   "execution_count": 19,
   "id": "bf6fc92f",
   "metadata": {},
   "outputs": [
    {
     "name": "stdout",
     "output_type": "stream",
     "text": [
      "Nodes and relationships created successfully!\n"
     ]
    }
   ],
   "source": [
    "def insert_soil_weed_indicator_edges(tx, data):\n",
    "    query = \"\"\"\n",
    "    MATCH (p:Plant {scientificName: $scientific_name})\n",
    "    MATCH (sc:SoilCondition {name: $condition})\n",
    "    MERGE (p)-[:indicates]->(sc)\n",
    "    \"\"\"\n",
    "    tx.run(query, \n",
    "           scientific_name=data['ScientificName'], \n",
    "           condition=data['Condition'])\n",
    "    \n",
    "table_insertion(soil_weed_indicator_edges_df, insert_soil_weed_indicator_edges)"
   ]
  },
  {
   "cell_type": "code",
   "execution_count": 20,
   "id": "96d5ca64",
   "metadata": {},
   "outputs": [
    {
     "name": "stdout",
     "output_type": "stream",
     "text": [
      "Nodes and relationships created successfully!\n"
     ]
    }
   ],
   "source": [
    "def insert_weed_croptrait_edges(tx, data):\n",
    "    query = \"\"\"\n",
    "    MATCH (p:Plant {scientificName: $scientific_name})\n",
    "    MATCH (ctv:CultivationTraitValue {valueName: $value})\n",
    "    MERGE (p)-[:competesWith]->(ctv)\n",
    "    \"\"\"\n",
    "    tx.run(query, \n",
    "           scientific_name=data['ScientificName'], \n",
    "           value=data['competes_with'])\n",
    "    \n",
    "table_insertion(weed_croptrait_edges_df, insert_weed_croptrait_edges)"
   ]
  },
  {
   "cell_type": "code",
   "execution_count": 21,
   "id": "35234dcb",
   "metadata": {},
   "outputs": [
    {
     "name": "stdout",
     "output_type": "stream",
     "text": [
      "Nodes and relationships created successfully!\n"
     ]
    }
   ],
   "source": [
    "def insert_croptrait_strategy_edges(tx, data):\n",
    "    query = \"\"\"\n",
    "    MATCH (ws:WeedingStrategy {name: $name})\n",
    "    MATCH (ctv:CultivationTraitValue {valueName: $value})\n",
    "    MERGE (ws)-[:isInapplicableTo]->(ctv)\n",
    "    \"\"\"\n",
    "    tx.run(query, \n",
    "           name=data['IncompatibleStrategies'], \n",
    "           value=data['CropTraitValue'])\n",
    "    \n",
    "table_insertion(croptrait_strategy_edges_df, insert_croptrait_strategy_edges)"
   ]
  },
  {
   "cell_type": "code",
   "execution_count": 22,
   "id": "234e0919",
   "metadata": {},
   "outputs": [
    {
     "name": "stdout",
     "output_type": "stream",
     "text": [
      "Nodes and relationships created successfully!\n"
     ]
    }
   ],
   "source": [
    "def insert_weed_strategy_edges(tx, data):\n",
    "    query = \"\"\"\n",
    "    MATCH (ws:WeedingStrategy {name: $name})\n",
    "    MATCH (p:Plant {scientificName: $scientific_name})\n",
    "    MERGE (ws)-[r:isEffectiveAgainst]->(p)\n",
    "    SET r.comment = CASE WHEN $details IS NOT NULL THEN $details ELSE r.comment END\n",
    "    \"\"\"\n",
    "    tx.run(query, \n",
    "           name=data['Operation'], \n",
    "           scientific_name=data['TARGET'],\n",
    "           details=data['Details'])\n",
    "     \n",
    "table_insertion(weed_strategy_edges_df, insert_weed_strategy_edges)"
   ]
  },
  {
   "cell_type": "code",
   "execution_count": null,
   "id": "fdebfe7b",
   "metadata": {},
   "outputs": [],
   "source": []
  }
 ],
 "metadata": {
  "kernelspec": {
   "display_name": "venv",
   "language": "python",
   "name": "python3"
  },
  "language_info": {
   "codemirror_mode": {
    "name": "ipython",
    "version": 3
   },
   "file_extension": ".py",
   "mimetype": "text/x-python",
   "name": "python",
   "nbconvert_exporter": "python",
   "pygments_lexer": "ipython3",
   "version": "3.13.1"
  }
 },
 "nbformat": 4,
 "nbformat_minor": 5
}
